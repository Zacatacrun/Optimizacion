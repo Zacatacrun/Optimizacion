{
  "cells": [
    {
      "cell_type": "markdown",
      "metadata": {
        "id": "view-in-github",
        "colab_type": "text"
      },
      "source": [
        "<a href=\"https://colab.research.google.com/github/Zacatacrun/Optimizacion/blob/main/Programaciom_Proyecto.ipynb\" target=\"_parent\"><img src=\"https://colab.research.google.com/assets/colab-badge.svg\" alt=\"Open In Colab\"/></a>"
      ]
    },
    {
      "cell_type": "markdown",
      "source": [
        "\n",
        "\n",
        "# Spicy.Optimize\n"
      ],
      "metadata": {
        "id": "5MMUsdaeR5zs"
      }
    },
    {
      "cell_type": "markdown",
      "source": [
        "Utilizando Simplex para un escenario el cual cumpla el panorama del pae de Febrero del 2023 a Diciembre del 2023"
      ],
      "metadata": {
        "id": "UbjkrssSgoEj"
      }
    },
    {
      "cell_type": "code",
      "source": [
        "import numpy as np\n",
        "from scipy.optimize import linprog\n",
        "\n",
        "# Coeficientes de la función objetivo (1 para cada variable X(i, j, k))\n",
        "c = np.ones(400)\n",
        "\n",
        "# Matriz de coeficientes de las restricciones\n",
        "A = []\n",
        "# Vector de términos independientes de las restricciones\n",
        "b = []\n",
        "\n",
        "# Restricción de presupuesto\n",
        "A.append([5905242, 5425391, 5298313, 5624201, 4898495, 9245944, 4933858, 3606987, 4621209, 4778497])\n",
        "b.append(22115621.75)\n",
        "\n",
        "# Restricciones de cantidad mínima requerida de los alimentos\n",
        "cantidad_requerida = [100, 150, 80, 120, 90]\n",
        "for q in range(5):\n",
        "    row = np.zeros(400)\n",
        "    row[q::10] = cantidad_requerida[q]\n",
        "    A.append(row)\n",
        "    b.append(cantidad_requerida[q])\n",
        "\n",
        "# Restricciones de asignación\n",
        "for i in range(40):\n",
        "    row = np.zeros(400)\n",
        "    row[i*10:(i+1)*10] = 1\n",
        "    A.append(row)\n",
        "    b.append(1)\n",
        "\n",
        "# Restricciones de proveedor\n",
        "for q in range(5):\n",
        "    row = np.zeros(400)\n",
        "    row[q::10] = 1\n",
        "    A.append(row)\n",
        "    b.append(1)\n",
        "\n",
        "# Restricciones de asignación de proveedores\n",
        "for q in range(5):\n",
        "    for i in range(40):\n",
        "        row = np.zeros(400)\n",
        "        row[i*10:(i+1)*10] = 1\n",
        "        A.append(row)\n",
        "        b.append(1)\n",
        "\n",
        "# Asegúrate de que todas las filas de A tengan la misma longitud\n",
        "max_row_length = max(len(row) for row in A)\n",
        "A = np.array([np.pad(row, (0, max_row_length - len(row)), mode='constant') for row in A])\n",
        "\n",
        "# Límites de las variables (X(i, j, k) y Y(p, q) son binarias, por lo que los límites son (0, 1))\n",
        "bounds = [(0, 1)] * 400\n",
        "\n",
        "# A_ub y b_ub son iguales a A y b respectivamente\n",
        "A_ub = A\n",
        "b_ub = b\n",
        "\n",
        "# Resolver el problema utilizando linprog\n",
        "res = linprog(-c, A_ub=A_ub, b_ub=b_ub, bounds=bounds, method='simplex')\n",
        "\n",
        "# Imprimir el resultado\n",
        "print(\"Estado de la solución:\", res.message)\n",
        "print(\"Valor óptimo de la función objetivo:\", -res.fun)"
      ],
      "metadata": {
        "id": "2UqYFxMIUK0E",
        "outputId": "fa9ac1f8-ceec-478e-f930-09c033e695d1",
        "colab": {
          "base_uri": "https://localhost:8080/"
        }
      },
      "execution_count": null,
      "outputs": [
        {
          "output_type": "stream",
          "name": "stderr",
          "text": [
            "<ipython-input-18-351e6d76d802>:58: DeprecationWarning: `method='simplex'` is deprecated and will be removed in SciPy 1.11.0. Please use one of the HiGHS solvers (e.g. `method='highs'`) in new code.\n",
            "  res = linprog(-c, A_ub=A_ub, b_ub=b_ub, bounds=bounds, method='simplex')\n"
          ]
        },
        {
          "output_type": "stream",
          "name": "stdout",
          "text": [
            "Estado de la solución: The solution is feasible, but the solver did not report that the solution was optimal. Please try a different method.\n",
            "Valor óptimo de la función objetivo: 40.0\n"
          ]
        }
      ]
    },
    {
      "cell_type": "markdown",
      "source": [
        "**Haciendo mas Optimo el modelo con mas restricciones**"
      ],
      "metadata": {
        "id": "pOFlSWNSg0bT"
      }
    },
    {
      "cell_type": "code",
      "source": [
        "import numpy as np\n",
        "import warnings\n",
        "from scipy.optimize import linprog\n",
        "\n",
        "# Coeficientes de la función objetivo (1 para cada variable X(i, j, k))\n",
        "c = np.ones(400)\n",
        "\n",
        "# Matriz de coeficientes de las restricciones\n",
        "A = []\n",
        "# Vector de términos independientes de las restricciones\n",
        "b = []\n",
        "\n",
        "# Restricción de presupuesto\n",
        "A.append([5905242, 5425391, 5298313, 5624201, 4898495, 9245944, 4933858, 3606987, 4621209, 4778497])\n",
        "b.append(22115621.75)\n",
        "\n",
        "# Restricciones de cantidad mínima requerida de los alimentos\n",
        "cantidad_requerida = [100, 150, 80, 120, 90]\n",
        "for q in range(5):\n",
        "    row = np.zeros(400)\n",
        "    row[q::10] = cantidad_requerida[q]\n",
        "    A.append(row)\n",
        "    b.append(cantidad_requerida[q])\n",
        "\n",
        "# Restricciones de asignación\n",
        "for i in range(40):\n",
        "    row = np.zeros(400)\n",
        "    row[i*10:(i+1)*10] = 1\n",
        "    A.append(row)\n",
        "    b.append(1)\n",
        "\n",
        "# Restricciones de proveedor\n",
        "for q in range(5):\n",
        "    row = np.zeros(400)\n",
        "    row[q::10] = 1\n",
        "    A.append(row)\n",
        "    b.append(1)\n",
        "\n",
        "# Restricciones de asignación de proveedores\n",
        "for q in range(5):\n",
        "    for i in range(40):\n",
        "        row = np.zeros(400)\n",
        "        row[i*10:(i+1)*10] = 1\n",
        "        A.append(row)\n",
        "        b.append(1)\n",
        "\n",
        "# Asegúrate de que todas las filas de A tengan la misma longitud\n",
        "max_row_length = max(len(row) for row in A)\n",
        "A = np.array([np.pad(row, (0, max_row_length - len(row)), mode='constant') for row in A])\n",
        "\n",
        "# Límites de las variables (X(i, j, k) y Y(p, q) son binarias, por lo que los límites son (0, 1))\n",
        "bounds = [(0, 1)] * 400\n",
        "\n",
        "# A_ub y b_ub son iguales a A y b respectivamente\n",
        "A_ub = A\n",
        "b_ub = b\n",
        "\n",
        "# Desactivar la advertencia\n",
        "warnings.filterwarnings(\"ignore\")\n",
        "\n",
        "# Resolver el problema utilizando linprog con el método 'highs'\n",
        "res = linprog(-c, A_ub=A_ub, b_ub=b_ub, bounds=bounds, method='highs')\n",
        "\n",
        "# Imprimir el resultado\n",
        "print(\"Valor óptimo de la función objetivo:\", -res.fun)"
      ],
      "metadata": {
        "id": "ybyStR-5YDHY",
        "outputId": "cc6512e5-ae03-426f-e279-6f3e38996f3e",
        "colab": {
          "base_uri": "https://localhost:8080/"
        }
      },
      "execution_count": null,
      "outputs": [
        {
          "output_type": "stream",
          "name": "stdout",
          "text": [
            "Valor óptimo de la función objetivo: 40.0\n"
          ]
        }
      ]
    },
    {
      "cell_type": "markdown",
      "source": [
        "Demostracion de alimentos extras"
      ],
      "metadata": {
        "id": "Xufn-t6CqXso"
      }
    },
    {
      "cell_type": "code",
      "source": [
        "import numpy as np\n",
        "import warnings\n",
        "from scipy.optimize import linprog\n",
        "\n",
        "# Coeficientes de la función objetivo (1 para cada variable X(i, j, k))\n",
        "c = np.ones(400)\n",
        "\n",
        "# Matriz de coeficientes de las restricciones\n",
        "A = []\n",
        "# Vector de términos independientes de las restricciones\n",
        "b = []\n",
        "\n",
        "# Restricción de presupuesto\n",
        "A.append([5905242, 5425391, 5298313, 5624201, 4898495, 9245944, 4933858, 3606987, 4621209, 4778497])\n",
        "b.append(22115621.75)\n",
        "\n",
        "# Restricciones de cantidad mínima requerida de los alimentos\n",
        "cantidad_requerida = [100, 150, 80, 120, 90]\n",
        "for q in range(5):\n",
        "    row = np.zeros(400)\n",
        "    row[q::10] = cantidad_requerida[q]\n",
        "    A.append(row)\n",
        "    b.append(cantidad_requerida[q])\n",
        "\n",
        "# Restricciones de asignación\n",
        "for i in range(40):\n",
        "    row = np.zeros(400)\n",
        "    row[i*10:(i+1)*10] = 1\n",
        "    A.append(row)\n",
        "    b.append(1)\n",
        "\n",
        "# Restricciones de proveedor\n",
        "for q in range(5):\n",
        "    row = np.zeros(400)\n",
        "    row[q::10] = 1\n",
        "    A.append(row)\n",
        "    b.append(1)\n",
        "\n",
        "# Definir el valor de la variable \"tiempo\" (puedes cambiarlo según tu preferencia)\n",
        "tiempo = \"mensual\"\n",
        "\n",
        "# Restricciones de asignación de proveedores\n",
        "for q in range(5):\n",
        "    for i in range(40):\n",
        "        row = np.zeros(400)\n",
        "        if tiempo == \"mensual\":\n",
        "            row[i*10 + q] = 1\n",
        "        elif tiempo == \"trimestral\":\n",
        "            row[i*10 + q] = 1/3\n",
        "        elif tiempo == \"semestral\":\n",
        "            row[i*10 + q] = 1/6\n",
        "        elif tiempo == \"anual\":\n",
        "            row[i*10 + q] = 1/12\n",
        "        A.append(row)\n",
        "        b.append(1)\n",
        "\n",
        "# Agregar variables adicionales para aumentar o disminuir la cantidad de alimentos recibidos\n",
        "# Cantidad de alimentos adicionales\n",
        "extra_alimentos = [15, 10, 21, 21, 31]\n",
        "for q in range(5):\n",
        "    row = np.zeros(400)\n",
        "    row[q::10] = -1  # Coeficientes negativos para restar alimentos\n",
        "    A.append(row)\n",
        "    b.append(-extra_alimentos[q])\n",
        "\n",
        "# Asegúrate de que todas las filas de A tengan la misma longitud\n",
        "max_row_length = max(len(row) for row in A)\n",
        "A = np.array([np.pad(row, (0, max_row_length - len(row)), mode='constant') for row in A])\n",
        "\n",
        "# Límites de las variables (X(i, j, k) y Y(p, q) son binarias, por lo que los límites son (0, 1))\n",
        "bounds = [(0, 1)] * 400\n",
        "\n",
        "# A_ub y b_ub son iguales a A y b respectivamente\n",
        "A_ub = A\n",
        "b_ub = b\n",
        "\n",
        "# Desactivar la advertencia\n",
        "warnings.filterwarnings(\"ignore\")\n",
        "\n",
        "# Resolver el problema utilizando linprog con el método 'highs'\n",
        "res = linprog(-c, A_ub=A_ub, b_ub=b_ub, bounds=bounds, method='highs')\n",
        "\n",
        "# Verificar si la solución es factible\n",
        "if res.status == 2:  # 2 representa el código para 'infeasible'\n",
        "    print(\"El problema es infactible. No hay solución óptima.\")\n",
        "else:\n",
        "    # Imprimir el resultado\n",
        "    print(\"Estado de la solución:\", res.message)\n",
        "    print(\"Valor óptimo de la función objetivo:\", -res.fun)"
      ],
      "metadata": {
        "id": "EQyNYytzg27T",
        "outputId": "a874eb1c-42ee-4163-bf49-241b2daad0ed",
        "colab": {
          "base_uri": "https://localhost:8080/"
        }
      },
      "execution_count": null,
      "outputs": [
        {
          "output_type": "stream",
          "name": "stdout",
          "text": [
            "El problema es infactible. No hay solución óptima.\n"
          ]
        }
      ]
    },
    {
      "cell_type": "markdown",
      "source": [
        "Restricciones con CP M Y R"
      ],
      "metadata": {
        "id": "XRfFOteKuYgr"
      }
    },
    {
      "cell_type": "code",
      "source": [
        "import numpy as np\n",
        "import warnings\n",
        "from scipy.optimize import linprog\n",
        "\n",
        "# Coeficientes de la función objetivo (1 para cada variable X(i, j, k))\n",
        "c = np.ones(400)\n",
        "\n",
        "# Matriz de coeficientes de las restricciones\n",
        "A = []\n",
        "# Vector de términos independientes de las restricciones\n",
        "b = []\n",
        "\n",
        "# Restricción de presupuesto\n",
        "A.append([5905242, 5425391, 5298313, 5624201, 4898495, 9245944, 4933858, 3606987, 4621209, 4778497])\n",
        "b.append(22115621.75)\n",
        "\n",
        "# Restricciones de cantidad mínima requerida de los alimentos\n",
        "cantidad_requerida = [100, 150, 80, 120, 90]\n",
        "for q in range(5):\n",
        "    row = np.zeros(400)\n",
        "    row[q::10] = cantidad_requerida[q]\n",
        "    A.append(row)\n",
        "    b.append(cantidad_requerida[q])\n",
        "\n",
        "# Restricciones de asignación\n",
        "for i in range(40):\n",
        "    row = np.zeros(400)\n",
        "    row[i*10:(i+1)*10] = 1\n",
        "    A.append(row)\n",
        "    b.append(1)\n",
        "\n",
        "# Restricciones de proveedor\n",
        "for q in range(5):\n",
        "    row = np.zeros(400)\n",
        "    row[q::10] = 1\n",
        "    A.append(row)\n",
        "    b.append(1)\n",
        "\n",
        "# Restricciones de asignación de proveedores\n",
        "for q in range(5):\n",
        "    for i in range(40):\n",
        "        row = np.zeros(400)\n",
        "        row[i*10 + q] = 1\n",
        "        A.append(row)\n",
        "        b.append(1)\n",
        "\n",
        "# Coeficientes CP (precios unitarios de los alimentos)\n",
        "cp = [1077, 405, 844, 790, 1392]\n",
        "\n",
        "# Restricción de presupuesto por proveedor\n",
        "m = [2403433494, 2208134137, 2156413391]\n",
        "\n",
        "for i in range(3):\n",
        "    row = np.zeros(400)\n",
        "    for j in range(5):\n",
        "        row[j::10] = cp[j] * m[i]\n",
        "    A.append(row)\n",
        "    b.append(m[i])\n",
        "\n",
        "# Restricciones de cantidad mínima requerida de los alimentos\n",
        "cantidad_requerida = [100, 150, 80, 120, 90]\n",
        "for q in range(5):\n",
        "    row = np.zeros(400)\n",
        "    row[q::10] = cantidad_requerida[q]\n",
        "    A.append(row)\n",
        "    b.append(cantidad_requerida[q])\n",
        "\n",
        "# Asegúrate de que todas las filas de A tengan la misma longitud\n",
        "max_row_length = max(len(row) for row in A)\n",
        "A = np.array([np.pad(row, (0, max_row_length - len(row)), mode='constant') for row in A])\n",
        "\n",
        "# Límites de las variables (X(i, j, k) y Y(p, q) son binarias, por lo que los límites son (0, 1))\n",
        "bounds = [(0, 1)] * 400\n",
        "\n",
        "# A_ub y b_ub son iguales a A y b respectivamente\n",
        "A_ub = A\n",
        "b_ub = b\n",
        "\n",
        "# Desactivar la advertencia\n",
        "warnings.filterwarnings(\"ignore\")\n",
        "\n",
        "# Resolver el problema utilizando linprog con el método 'highs'\n",
        "res = linprog(-c, A_ub=A_ub, b_ub=b_ub, bounds=bounds, method='highs')\n",
        "\n",
        "# Imprimir el resultado\n",
        "print(\"Estado de la solución:\", res.message)\n",
        "print(\"Valor óptimo de la función objetivo:\", -res.fun)"
      ],
      "metadata": {
        "id": "mdonnm33qfl4",
        "outputId": "9d20cfa1-b0bf-40dd-9910-042f43edb06e",
        "colab": {
          "base_uri": "https://localhost:8080/"
        }
      },
      "execution_count": null,
      "outputs": [
        {
          "output_type": "stream",
          "name": "stdout",
          "text": [
            "Estado de la solución: Optimization terminated successfully. (HiGHS Status 7: Optimal)\n",
            "Valor óptimo de la función objetivo: 40.0\n"
          ]
        }
      ]
    },
    {
      "cell_type": "code",
      "source": [
        "import numpy as np\n",
        "import warnings\n",
        "from scipy.optimize import linprog\n",
        "\n",
        "# Coeficientes de la función objetivo (1 para cada variable X(i, j, k))\n",
        "c = np.ones(400)\n",
        "\n",
        "# Matriz de coeficientes de las restricciones\n",
        "A = []\n",
        "# Vector de términos independientes de las restricciones\n",
        "b = []\n",
        "\n",
        "# Restricción de presupuesto\n",
        "A.append([5905242, 5425391, 5298313, 5624201, 4898495, 9245944, 4933858, 3606987, 4621209, 4778497])\n",
        "b.append(22115621.75)\n",
        "\n",
        "# Restricciones de cantidad mínima requerida de los alimentos\n",
        "cantidad_requerida = [100, 150, 80, 120, 90]\n",
        "for q in range(5):\n",
        "    row = np.zeros(400)\n",
        "    row[q::10] = cantidad_requerida[q]\n",
        "    A.append(row)\n",
        "    b.append(cantidad_requerida[q])\n",
        "\n",
        "# Restricciones de asignación\n",
        "for i in range(40):\n",
        "    row = np.zeros(400)\n",
        "    row[i*10:(i+1)*10] = 1\n",
        "    A.append(row)\n",
        "    b.append(1)\n",
        "\n",
        "# Restricciones de proveedor\n",
        "for q in range(5):\n",
        "    row = np.zeros(400)\n",
        "    row[q::10] = 1\n",
        "    A.append(row)\n",
        "    b.append(1)\n",
        "\n",
        "# Restricciones de asignación de proveedores\n",
        "for q in range(5):\n",
        "    for i in range(40):\n",
        "        row = np.zeros(400)\n",
        "        row[i*10 + q] = 1\n",
        "        A.append(row)\n",
        "        b.append(1)\n",
        "\n",
        "# Coeficientes CP (precios unitarios de los alimentos)\n",
        "cp = [2000, 2500, 3000, 3500, 4000]\n",
        "\n",
        "# Cantidad requerida de alimentos\n",
        "r = [200, 300, 400, 500, 600]\n",
        "\n",
        "# Presupuesto asignado a los proveedores\n",
        "m = [1000000, 2000000, 3000000]\n",
        "\n",
        "# Restricciones de presupuesto por proveedor\n",
        "for i in range(3):\n",
        "    row = np.zeros(400)\n",
        "    for j in range(5):\n",
        "        row[j::10] = cp[j] * m[i]\n",
        "    A.append(row)\n",
        "    b.append(m[i])\n",
        "\n",
        "# Restricciones de cantidad mínima requerida de los alimentos\n",
        "for q in range(5):\n",
        "    row = np.zeros(400)\n",
        "    row[q::10] = r[q]\n",
        "    A.append(row)\n",
        "    b.append(r[q])\n",
        "\n",
        "# Asegúrate de que todas las filas de A tengan la misma longitud\n",
        "max_row_length = max(len(row) for row in A)\n",
        "A = np.array([np.pad(row, (0, max_row_length - len(row)), mode='constant') for row in A])\n",
        "\n",
        "# Límites de las variables (X(i, j, k) y Y(p, q) son binarias, por lo que los límites son (0, 1))\n",
        "bounds = [(0, 1)] * 400\n",
        "\n",
        "# A_ub y b_ub son iguales a A y b respectivamente\n",
        "A_ub = A\n",
        "b_ub = b\n",
        "\n",
        "# Desactivar la advertencia\n",
        "warnings.filterwarnings(\"ignore\")\n",
        "\n",
        "# Resolver el problema utilizando linprog con el método 'highs'\n",
        "res = linprog(-c, A_ub=A_ub, b_ub=b_ub, bounds=bounds, method='highs')\n",
        "\n",
        "# Imprimir el resultado\n",
        "print(\"Estado de la solución:\", res.message)\n",
        "print(\"Valor óptimo de la función objetivo:\", -res.fun)\n"
      ],
      "metadata": {
        "id": "7nO8onvCs2N4",
        "outputId": "2360ac93-e6d5-44ce-b548-edd31924d822",
        "colab": {
          "base_uri": "https://localhost:8080/"
        }
      },
      "execution_count": null,
      "outputs": [
        {
          "output_type": "stream",
          "name": "stdout",
          "text": [
            "Estado de la solución: Optimization terminated successfully. (HiGHS Status 7: Optimal)\n",
            "Valor óptimo de la función objetivo: 40.0\n"
          ]
        }
      ]
    }
  ],
  "metadata": {
    "colab": {
      "toc_visible": true,
      "provenance": [],
      "include_colab_link": true
    },
    "kernelspec": {
      "display_name": "Python 3",
      "name": "python3"
    }
  },
  "nbformat": 4,
  "nbformat_minor": 0
}